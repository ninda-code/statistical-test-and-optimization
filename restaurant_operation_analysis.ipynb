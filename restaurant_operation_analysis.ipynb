{
  "nbformat": 4,
  "nbformat_minor": 0,
  "metadata": {
    "colab": {
      "provenance": [],
      "collapsed_sections": [],
      "toc_visible": true,
      "include_colab_link": true
    },
    "kernelspec": {
      "name": "python3",
      "display_name": "Python 3"
    },
    "language_info": {
      "name": "python"
    }
  },
  "cells": [
    {
      "cell_type": "markdown",
      "metadata": {
        "id": "view-in-github",
        "colab_type": "text"
      },
      "source": [
        "<a href=\"https://colab.research.google.com/github/ninda-code/statistical-test-and-optimization/blob/main/restaurant_operation_analysis.ipynb\" target=\"_parent\"><img src=\"https://colab.research.google.com/assets/colab-badge.svg\" alt=\"Open In Colab\"/></a>"
      ]
    },
    {
      "cell_type": "markdown",
      "source": [
        "# Optimizing Restaurant Operation with Optimization, Experiment and Hypothesis Testing\n",
        "\n",
        "## Brief\n",
        "\n",
        "**Objective** : Identifying optimum number of checkout and kitchen counters combination to maximize profit. \n",
        "\n",
        "**Current Situation** : A restaurant owner has the kitchen operation capacity at maximum of 7 checkout and 10 kitchen employee. Currently the store operates at allocating 3 slots for kitchen, 3 slots for check-in, and the rest being idle. \n",
        "\n",
        "**Complication** : The owner believes the restaurant has not reach its optimal profit potentials and wanted to explore the posibilities by changing kitchen vs check-in counter formation.\n",
        "\n",
        "**Decission needs to be made** : How many kitchen and how many checkout counters needs to be open to maximize profit?\n",
        "\n",
        "**Proposed Solution** : \n",
        "- Simulate potential restaurant's operation cost and revenue by trying several scenarios using different random number (`Monte Carlo`). \n",
        "- Use `hyperopt` to identify combination for maximum profit. In real aplication, it is hard to try all different combination, so, the idea is that simulating all variations computationally. Then only experiment the scenario that yield best result in simulation. \n",
        "- Design experiment by defining hypothesis and sample size\n",
        "- Evaluate statistical significance of the experiment and evaluate the result. "
      ],
      "metadata": {
        "id": "l9FgjmUnvgEu"
      }
    },
    {
      "cell_type": "markdown",
      "source": [
        "## Analysis"
      ],
      "metadata": {
        "id": "Ds-txvehPXBB"
      }
    },
    {
      "cell_type": "markdown",
      "source": [
        "### Step 0 : Import and install required libraries"
      ],
      "metadata": {
        "id": "BWywDKFW3p4Y"
      }
    },
    {
      "cell_type": "code",
      "source": [
        "! pip install scikit_posthocs\n",
        "! pip install simpy\n",
        "! pip install pynverse"
      ],
      "metadata": {
        "id": "bJtCYL9jPWsd"
      },
      "execution_count": null,
      "outputs": []
    },
    {
      "cell_type": "code",
      "source": [
        "import numpy as np\n",
        "from scipy import stats\n",
        "import pandas as pd\n",
        "import scikit_posthocs as sp\n",
        "import statsmodels.api as sm\n",
        "import math\n",
        "import matplotlib.pyplot as plt\n",
        "import hyperopt\n",
        "import simpy\n",
        "from pynverse import inversefunc\n",
        "from scipy.stats import expon, uniform, poisson"
      ],
      "metadata": {
        "id": "kjXex9l8Psk7"
      },
      "execution_count": null,
      "outputs": []
    },
    {
      "cell_type": "markdown",
      "source": [
        "### Step 1 : Simulate restaurant operations and financials\n"
      ],
      "metadata": {
        "id": "BR_VCJKt80Mq"
      }
    },
    {
      "cell_type": "markdown",
      "source": [
        "**Assumptions and Inputs**\n",
        "- Maximum capacity : counter 7, kitchen 10\n",
        "- Daily people cost : kitchen-hand at USD 100, checkout-counter at USD 150\n",
        "- Revenue per order : exponential \n",
        "distribution with lambda 1/15\n",
        "- Customer arrival : nonhomogenous Poisson process with mean arrival function  $λ(t)=25∗sin(\\frac{\\pi}{10}t)$ \n",
        "- Time to make order : exponential \n",
        "distribution with lambda 15\n",
        "- Time spent in the checkout : exponential \n",
        "distribution with lambda 20\n",
        "\n",
        "*PS : adopted from Simulation's course homework*"
      ],
      "metadata": {
        "id": "svCmfhLed6GD"
      }
    },
    {
      "cell_type": "code",
      "source": [
        "np.random.seed(42)\n",
        "nsims = 100 # Try scenario at 100 steps\n",
        "T = 10 # Restaurant operates 10hrs daily\n",
        "\n",
        "input_params ={ \n",
        "  \"checkout_capacity\" : 7 # Maximum checkout capacity\n",
        "  , \"kitchen_ capacity\" : 10 # Maximum kitchen capacity\n",
        "  , \"revenue_order\": 15 # Assumed price per meal (revenue) following exponential distribution with parameter 1/15\n",
        "  , \"arrival\": 10\n",
        "  , \"checkout\": 20 # Assumed time spent in taking order is following exponential distribution with parameter 20\n",
        "  , \"kitchen\":15 # Assumed time it takes to prepare a meal following exponential distribution with parameter 15\n",
        "  , \"max_hrs\" :10 # Operating hours at 10 hours daily\n",
        "  , \"max_ppl_inline\" : 5 # Maximum person in the checkout line, otherwise rejected and counted as opportunity cost\n",
        "  , \"max_ppl_waiting\" : 10 # Maximum person in the waiting for food line\n",
        "  , \"cost_employee_co\" :150 # Salary of checkout staff\n",
        "  , \"cost_employee_kitchen\" :100 # Salary of kitchen-hand staff\n",
        "  , \"cost_opportunity\" : 30 # Estimated opportunity cost for every rejected customer for when the line is full\n",
        "}"
      ],
      "metadata": {
        "id": "MIDgZgnq6MRg"
      },
      "execution_count": null,
      "outputs": []
    },
    {
      "cell_type": "markdown",
      "source": [
        "**Output**"
      ],
      "metadata": {
        "id": "FOYyHNYL9tth"
      }
    },
    {
      "cell_type": "code",
      "source": [
        "output = { \n",
        "  \"arrivals\":[] # Incoming customer\n",
        "  , \"customers\":[] # Accepted customers\n",
        "  , \"leavers\" :[] # Rejected customers (loss of opportunity)\n",
        "  , \"departures\":[] # Customer departure time\n",
        "  , \"checkout_queue\":[] # Ccheckout queue\n",
        "  , \"kitchen_queue\":[] # Kitchen queue\n",
        "  , \"order_price\": [] # Revenue per order\n",
        "  }"
      ],
      "metadata": {
        "id": "4-dG3e7N9vDM"
      },
      "execution_count": null,
      "outputs": []
    },
    {
      "cell_type": "markdown",
      "source": [
        "**Simulations functions**"
      ],
      "metadata": {
        "id": "jB3eO2eYLqq8"
      }
    },
    {
      "cell_type": "code",
      "source": [
        "def Lmbda(t): # Arrival rate function\n",
        "    return - 250/np.pi * np.cos((np.pi * t)/(10))+ 250/np.pi\n",
        "\n",
        "def poisson_process(lmbda, T): \n",
        "    N = poisson.rvs(lmbda*T) \n",
        "    S = uniform.rvs(size=N) * T \n",
        "    return np.sort(S) \n",
        "\n",
        "def interarrivals_times(Lmbda, T):\n",
        "    LmbdaT = Lmbda(T)\n",
        "    inv = inversefunc(Lmbda, domain=[0,10],open_domain=[True, True])\n",
        "    s = poisson_process(1, LmbdaT)\n",
        "    t = inv(s)\n",
        "    X = t.copy()\n",
        "    X[1:] = np.diff(t)\n",
        "    for dt in X:\n",
        "        yield dt\n",
        "\n",
        "# Queueing system\n",
        "def arrival(env, dts, checkout, kitchen, total_arrivals, checkout_times, kitchen_times, revenue_order, left):\n",
        "    i = 0\n",
        "    while True:\n",
        "        try:\n",
        "            dt = next(dts)\n",
        "        except:\n",
        "            total_cust = len(output[\"arrivals\"]) + len(output[\"leavers\"])\n",
        "            total_arrivals.append(i)\n",
        "            left.append(i - len(revenue_order))       \n",
        "            break\n",
        "        yield env.timeout(dt)\n",
        "\n",
        "        if len(checkout.queue) <= input_params[\"max_ppl_inline\"] and len(kitchen.queue) <= input_params[\"max_ppl_waiting\"]:\n",
        "            pi = expon.rvs(scale=input_params[\"revenue_order\"])\n",
        "            revenue_order.append(pi)\n",
        "            output['arrivals'].append(env.now)\n",
        "            output['order_price'].append(pi)\n",
        "            output['checkout_queue'].append(len(checkout.queue))\n",
        "            output['kitchen_queue'].append(len(kitchen.queue))\n",
        "            output['customers'].append(i)\n",
        "            env.process(service(env, dts, checkout, kitchen,total_arrivals, checkout_times, kitchen_times, revenue_order))\n",
        "        else:\n",
        "            output['leavers'].append(i)\n",
        "            pass\n",
        "        i += 1\n",
        "\n",
        "def service(env, dts, checkout, kitchen, total_arrivals, checkout_times, kitchen_times, revenue_order):\n",
        "    rqt1 = checkout.request()\n",
        "    yield rqt1\n",
        "    dt1 = expon.rvs(scale=1/input_params[\"checkout\"])\n",
        "    yield env.timeout(dt1)\n",
        "    checkout.release(rqt1)\n",
        "    checkout_times.append(dt1)\n",
        "\n",
        "    rqt2 = kitchen.request()\n",
        "    yield rqt2\n",
        "    dt2 = expon.rvs(scale=1/input_params[\"kitchen\"])\n",
        "    yield env.timeout(dt2)\n",
        "    kitchen.release(rqt2)\n",
        "    kitchen_times.append(dt2)\n",
        "    output['departures'].append(env.now)\n",
        "\n",
        "def simulate(num_checkout, num_kitchen):\n",
        "    total_arrivals = []\n",
        "    checkout_times = []\n",
        "    kitchen_times = []\n",
        "    revenue_order = []\n",
        "    left = []\n",
        "    \n",
        "    # Initiate environment\n",
        "    env = simpy.Environment()\n",
        "\n",
        "    # Initiate resources and arrivals\n",
        "    dts = interarrivals_times(Lmbda,T)\n",
        "    checkout = simpy.Resource(env, capacity=num_checkout)\n",
        "    kitchen = simpy.Resource(env, capacity=num_kitchen)\n",
        "\n",
        "    # Initiate process\n",
        "    env.process(arrival(env, dts, checkout, kitchen, total_arrivals, checkout_times, kitchen_times, revenue_order, left))\n",
        "    env.run()\n",
        "\n",
        "    # Calculate metrics\n",
        "    cost = input_params[\"cost_employee_co\"]*num_checkout + input_params[\"cost_employee_kitchen\"]*num_kitchen + input_params[\"cost_opportunity\"]*left[0]\n",
        "    revenue = np.sum(revenue_order)\n",
        "    profit = revenue - cost\n",
        "    cost_margin = cost/revenue\n",
        "\n",
        "\n",
        "    return profit, revenue, cost, cost_margin, np.mean(total_arrivals), np.mean(checkout_times),np.mean(kitchen_times),np.mean(revenue_order), output\n"
      ],
      "metadata": {
        "id": "gwqmEymfXye2"
      },
      "execution_count": null,
      "outputs": []
    },
    {
      "cell_type": "markdown",
      "source": [
        "### Step 2 : Simulate data for current state\n",
        "For sanity check, see if the simulation outcomes mimic the actual data. For this particular made-up analysis, let's assume that it does mimic the actual financial performance of the restaurant. "
      ],
      "metadata": {
        "id": "ikDHA6YDUIlh"
      }
    },
    {
      "cell_type": "code",
      "source": [
        "np.random.seed(42)\n",
        "control_dummy = [simulate(3,3) for i in range(0, 1000)] # Simulate 1000 times to see the distribution"
      ],
      "metadata": {
        "id": "BhgVuawUclWV"
      },
      "execution_count": null,
      "outputs": []
    },
    {
      "cell_type": "code",
      "source": [
        "# Profit simulation outcome\n",
        "\n",
        "c_profit_dummy = [i[0] for i in control_dummy]\n",
        "plt.hist(c_profit_dummy, label = \"control\", histtype = \"step\", bins=10)\n",
        "plt.legend()\n",
        "plt.show()\n",
        "print(\"Simulated average daily profit : {:,.2f}\".format(np.mean(c_profit_dummy)))"
      ],
      "metadata": {
        "colab": {
          "base_uri": "https://localhost:8080/",
          "height": 282
        },
        "id": "iKYMlttNhAd6",
        "outputId": "1e9ac9c2-536e-498e-ca43-4791325673d9"
      },
      "execution_count": null,
      "outputs": [
        {
          "output_type": "display_data",
          "data": {
            "text/plain": [
              "<Figure size 432x288 with 1 Axes>"
            ],
            "image/png": "[encoded data removed]"
          },
          "metadata": {
            "needs_background": "light"
          }
        },
        {
          "output_type": "stream",
          "name": "stdout",
          "text": [
            "Simulated average daily profit : 1,640.88\n"
          ]
        }
      ]
    },
    {
      "cell_type": "code",
      "source": [
        "# Cost margin simulation outcome\n",
        "\n",
        "c_costmargin_dummy = [i[3] for i in control_dummy]\n",
        "plt.hist(c_costmargin_dummy, label = \"control\", histtype = \"step\", bins=10)\n",
        "plt.legend()\n",
        "plt.show()\n",
        "print(\"Simulated average daily cost margin : {:,.2f}\".format(np.mean(c_costmargin_dummy)))"
      ],
      "metadata": {
        "colab": {
          "base_uri": "https://localhost:8080/",
          "height": 282
        },
        "id": "kSRC5-eUdNIY",
        "outputId": "832bcb56-3f5e-41ee-c20b-839962b6e255"
      },
      "execution_count": null,
      "outputs": [
        {
          "output_type": "display_data",
          "data": {
            "text/plain": [
              "<Figure size 432x288 with 1 Axes>"
            ],
            "image/png": "[encoded data removed]"
          },
          "metadata": {
            "needs_background": "light"
          }
        },
        {
          "output_type": "stream",
          "name": "stdout",
          "text": [
            "Simulated average daily cost margin : 0.32\n"
          ]
        }
      ]
    },
    {
      "cell_type": "markdown",
      "source": [
        "### Step 3 : Use optimization solver to identify configuration to maximize profit"
      ],
      "metadata": {
        "id": "5QbSfXJsdyUb"
      }
    },
    {
      "cell_type": "code",
      "source": [
        "def objective(params):\n",
        "    np.random.seed(42)\n",
        "    n = 100\n",
        "    x = params[0]\n",
        "    y = params[1]\n",
        "    profit = [simulate(params[0],params[1])[0] for i in range(n)]\n",
        "    return -1*np.mean(profit)\n",
        "\n",
        "trials = hyperopt.Trials()\n",
        "best = hyperopt.fmin(fn=objective,\n",
        "    space = [hyperopt.hp.quniform(\"num_checkout\",1,7,1), hyperopt.hp.quniform(\"num_kitchen\",1,10,1)],\n",
        "    algo = hyperopt.tpe.suggest,\n",
        "    max_evals = 50,\n",
        "    trials = trials)\n",
        "print(best)"
      ],
      "metadata": {
        "colab": {
          "base_uri": "https://localhost:8080/"
        },
        "id": "T8-OnlOZcrdg",
        "outputId": "fd7afaab-8795-46ba-c37a-c05c1538baf5"
      },
      "execution_count": null,
      "outputs": [
        {
          "output_type": "stream",
          "name": "stdout",
          "text": [
            "100%|██████████| 50/50 [06:19<00:00,  7.60s/it, best loss: -1840.2112581033434]\n",
            "{'num_checkout': 2.0, 'num_kitchen': 2.0}\n"
          ]
        }
      ]
    },
    {
      "cell_type": "markdown",
      "source": [
        "## Experiment Design"
      ],
      "metadata": {
        "id": "mJ5Qx5SU4a5Z"
      }
    },
    {
      "cell_type": "markdown",
      "source": [
        "### Hypothesis\n",
        "\n",
        "**Tested scenarios**\n",
        "- Control : 3 kitchen and 3 checkout\n",
        "- Treatment 1 : 2 kitchen and 2 checkout\n",
        "- Treatment 2 : 4 kitchen and 4 checkout\n",
        "\n",
        "**H0 : control = treatment 1 = treatment 2** <br />\n",
        "The profit of all groups are the same and if there's any difference, it is all still statistically insignificance\n",
        "\n",
        "**H1 : At least one of them are different**\n",
        "\n",
        "### Assumptions for experiment parameters\n",
        "\n",
        "- **Effect Size** : It is assumed that at least the experiment needs to show **5%** uplift on the profit to ensure that the whole changes and configuration make sense from business perspective\n",
        "- **Alpha/ Significance level** : Let's use common convention of 0.05\n",
        "- **Power** : Due to an alpha inflation, to increase the probability that the test correctly rejects the Null Hypothesis if the Alternative Hypothesis is true we set this at 80%\n",
        "- **Calculate the required sample size**\n",
        "Since later we going to use F-test ANOVA, we set the sampel size calculator respective of the test. Hence, we use `FTestAnovaPower` for the analysis. "
      ],
      "metadata": {
        "id": "Ubu1Vxzk35mq"
      }
    },
    {
      "cell_type": "code",
      "source": [
        "effect_size = sm.stats.proportion_effectsize(0.5, 0.55) \n",
        "# proportion formula : 2 * (arcsin(sqrt(prop1)) - arcsin(sqrt(prop2)))\n",
        "\n",
        "significance_level = 0.05\n",
        "power = 0.8\n",
        "# is one minus the probability of a type II error. Power is the probability that the test correctly rejects the Null Hypothesis if the Alternative Hypothesis is true.\n",
        "\n",
        "analysis =  sm.stats.FTestAnovaPower()\n",
        "nobs = analysis.solve_power(effect_size=effect_size, alpha=significance_level, power=power, k_groups=3)\n",
        "\n",
        "print(\"Required sample-size for each group is : {:,.0f}\".format(math.ceil(nobs)))"
      ],
      "metadata": {
        "id": "NXYL1_cV4Z_E",
        "colab": {
          "base_uri": "https://localhost:8080/"
        },
        "outputId": "587bc4c1-30ca-4c1a-992a-503cc209a51b"
      },
      "execution_count": null,
      "outputs": [
        {
          "output_type": "stream",
          "name": "stdout",
          "text": [
            "Required sample-size for each group is : 964\n"
          ]
        }
      ]
    },
    {
      "cell_type": "markdown",
      "source": [
        "## Simulate the data for experiment result"
      ],
      "metadata": {
        "id": "Db3USOvIeTh-"
      }
    },
    {
      "cell_type": "code",
      "source": [
        "np.random.seed(42)\n",
        "data_control = [simulate(3,3) for i in range(0, 1000)]\n",
        "data_treatment_1 = [simulate(2,2) for i in range(0, 1000)]\n",
        "data_treatment_2 = [simulate(4,4) for i in range(0, 1000)]"
      ],
      "metadata": {
        "id": "WEkBRmTSeSSm"
      },
      "execution_count": null,
      "outputs": []
    },
    {
      "cell_type": "markdown",
      "source": [
        "### Profit"
      ],
      "metadata": {
        "id": "WdpGFIjce7IY"
      }
    },
    {
      "cell_type": "code",
      "source": [
        "c_profit = [i[0] for i in data_control]\n",
        "t1_profit = [i[0] for i in data_treatment_1]\n",
        "t2_profit = [i[0] for i in data_treatment_2]\n",
        "\n",
        "plt.hist(c_profit, label = \"control\", histtype = \"step\", bins=10)\n",
        "plt.hist(t1_profit, label = \"treatment 1\", histtype = \"step\", bins=10, color = \"r\")\n",
        "plt.hist(t2_profit, label = \"treatment 2\", histtype = \"step\", bins=10, color = \"g\")\n",
        "plt.legend()\n",
        "plt.show()"
      ],
      "metadata": {
        "colab": {
          "base_uri": "https://localhost:8080/",
          "height": 265
        },
        "id": "4l6tNDKnef__",
        "outputId": "6b9b859e-dea2-4d4a-add4-d63a9bde3391"
      },
      "execution_count": null,
      "outputs": [
        {
          "output_type": "display_data",
          "data": {
            "text/plain": [
              "<Figure size 432x288 with 1 Axes>"
            ],
            "image/png": "[encoded data removed]"
          },
          "metadata": {
            "needs_background": "light"
          }
        }
      ]
    },
    {
      "cell_type": "markdown",
      "source": [
        "### Cost Margin"
      ],
      "metadata": {
        "id": "V_0oXuHze-fv"
      }
    },
    {
      "cell_type": "code",
      "source": [
        "c_costmargin = [i[3] for i in data_control]\n",
        "t1_costmargin = [i[3] for i in data_treatment_1]\n",
        "t2_costmargin = [i[3] for i in data_treatment_2]\n",
        "\n",
        "plt.hist(c_costmargin, label = \"control\", histtype = \"step\", bins=10)\n",
        "plt.hist(t1_costmargin, label = \"treatment 1\", histtype = \"step\", bins=10, color = \"r\")\n",
        "plt.hist(t2_costmargin, label = \"treatment 2\", histtype = \"step\", bins=10, color = \"g\")\n",
        "plt.legend()\n",
        "plt.show()"
      ],
      "metadata": {
        "colab": {
          "base_uri": "https://localhost:8080/",
          "height": 265
        },
        "id": "h_LLlz3Ti5yV",
        "outputId": "1e5222dc-56d1-43a4-f708-63a375d6ee3e"
      },
      "execution_count": null,
      "outputs": [
        {
          "output_type": "display_data",
          "data": {
            "text/plain": [
              "<Figure size 432x288 with 1 Axes>"
            ],
            "image/png": "[encoded data removed]"
          },
          "metadata": {
            "needs_background": "light"
          }
        }
      ]
    },
    {
      "cell_type": "markdown",
      "source": [
        "## Evaluate hypotesis testing outcome\n",
        "#### Test for Profit significance test : ANOVA (parametric groups)\n",
        "See if the difference in the of the profit is statistically significance. Since we have 3 groups, we'll need to check first to see if there is \"ANY\" differences within groups. Then if it does, we'll check the p-value of each pair of the groups to identify where the significance lies."
      ],
      "metadata": {
        "id": "jNvwefYY8nsY"
      }
    },
    {
      "cell_type": "code",
      "source": [
        "control = c_profit\n",
        "treatment_1 = t1_profit\n",
        "treatment_2 = t2_profit\n",
        "\n",
        "alpha = 0.05"
      ],
      "metadata": {
        "id": "8JEwQOQfjFa4"
      },
      "execution_count": null,
      "outputs": []
    },
    {
      "cell_type": "markdown",
      "source": [
        "**Check if groups are following normal distribution and sharing same variance**\n",
        "\n",
        "Use Shapiro and Levene tests with alpha of 0.05"
      ],
      "metadata": {
        "id": "VdCltDVCWj0S"
      }
    },
    {
      "cell_type": "code",
      "source": [
        "# Test if the experiment result is significant (hypothesis testing)\n",
        "\n",
        "def is_normal(data):\n",
        "  pval = stats.shapiro(data)[1]\n",
        "  print(\"p-values : {:.4f}\".format(pval))\n",
        "  print(\"Reject null hypothesis -> Samples are not normally distributed\") if pval < alpha else print(\"Fail to reject null hypothesis -> Samples are normally distributed\")\n",
        "\n",
        "is_normal(control)\n",
        "is_normal(treatment_1)\n",
        "is_normal(treatment_2)\n",
        "\n",
        "pval = stats.levene(control, treatment_1, treatment_2)[1]\n",
        "print(\"p-values : {:.4f}\".format(pval))\n",
        "print(\"Reject null hypothesis -> Variances of the sample are different\") if pval < alpha else print(\"Fail to reject null hypothesis -> Variances of the sample are the same\")"
      ],
      "metadata": {
        "colab": {
          "base_uri": "https://localhost:8080/"
        },
        "id": "DWxSc3X_u9uT",
        "outputId": "c8d0ef4f-7b79-483d-cefa-48fb1dc7c7c1"
      },
      "execution_count": null,
      "outputs": [
        {
          "output_type": "stream",
          "name": "stdout",
          "text": [
            "p-values : 0.0996\n",
            "Fail to reject null hypothesis -> Samples are normally distributed\n",
            "p-values : 0.4812\n",
            "Fail to reject null hypothesis -> Samples are normally distributed\n",
            "p-values : 0.1325\n",
            "Fail to reject null hypothesis -> Samples are normally distributed\n",
            "p-values : 0.3754\n",
            "Fail to reject null hypothesis -> Variances of the sample are the same\n"
          ]
        }
      ]
    },
    {
      "cell_type": "markdown",
      "source": [
        "**Check if there is any difference within group** <br/>\n",
        "Use F-test "
      ],
      "metadata": {
        "id": "mo6NQQlYXNml"
      }
    },
    {
      "cell_type": "code",
      "source": [
        "# Check statistical significance of the experiments\n",
        "F, pval = stats.f_oneway(control, treatment_1, treatment_2)\n",
        "print(\"p-values : {:.4f}\".format(pval))\n",
        "print(\"Reject null hypothesis -> At least one of the mean of the samples is different\") if pval < alpha else print(\"Fail to reject null hypothesis -> The mean of the samples are all the same\")"
      ],
      "metadata": {
        "colab": {
          "base_uri": "https://localhost:8080/"
        },
        "id": "nM1ykepa1W9w",
        "outputId": "4188557b-889a-46b7-e494-e8539282e511"
      },
      "execution_count": null,
      "outputs": [
        {
          "output_type": "stream",
          "name": "stdout",
          "text": [
            "p-values : 0.0000\n",
            "Reject null hypothesis -> At least one of the mean of the samples is different\n"
          ]
        }
      ]
    },
    {
      "cell_type": "code",
      "source": [
        "# Check which pair is differ\n",
        "# Use Bonferroni to damplen alpha-inflation\n",
        "\n",
        "df_posthoc = sp.posthoc_ttest([control, treatment_1, treatment_2], equal_var = True, p_adjust = \"bonferroni\")\n",
        "df_posthoc.columns = [\"control\", \"treatment_1\", \"treatment_2\"]\n",
        "df_posthoc.index = [\"control\", \"treatment_1\", \"treatment_2\"]\n",
        "df_posthoc.style.applymap(lambda x: \"background-color:yellow\" if x<0.05 else \"background-color: white\")"
      ],
      "metadata": {
        "colab": {
          "base_uri": "https://localhost:8080/",
          "height": 143
        },
        "id": "LNavW-QP2ZMe",
        "outputId": "a378714d-9f16-4a44-9ffe-b5100eeb229f"
      },
      "execution_count": null,
      "outputs": [
        {
          "output_type": "execute_result",
          "data": {
            "text/plain": [
              "<pandas.io.formats.style.Styler at 0x7fc01ff31210>"
            ],
            "text/html": [
              "<style type=\"text/css\">\n",
              "#T_95235_row0_col0, #T_95235_row1_col1, #T_95235_row2_col2 {\n",
              "  background-color: white;\n",
              "}\n",
              "#T_95235_row0_col1, #T_95235_row0_col2, #T_95235_row1_col0, #T_95235_row1_col2, #T_95235_row2_col0, #T_95235_row2_col1 {\n",
              "  background-color: yellow;\n",
              "}\n",
              "</style>\n",
              "<table id=\"T_95235_\" class=\"dataframe\">\n",
              "  <thead>\n",
              "    <tr>\n",
              "      <th class=\"blank level0\" >&nbsp;</th>\n",
              "      <th class=\"col_heading level0 col0\" >control</th>\n",
              "      <th class=\"col_heading level0 col1\" >treatment_1</th>\n",
              "      <th class=\"col_heading level0 col2\" >treatment_2</th>\n",
              "    </tr>\n",
              "  </thead>\n",
              "  <tbody>\n",
              "    <tr>\n",
              "      <th id=\"T_95235_level0_row0\" class=\"row_heading level0 row0\" >control</th>\n",
              "      <td id=\"T_95235_row0_col0\" class=\"data row0 col0\" >1.000000</td>\n",
              "      <td id=\"T_95235_row0_col1\" class=\"data row0 col1\" >0.000000</td>\n",
              "      <td id=\"T_95235_row0_col2\" class=\"data row0 col2\" >0.000000</td>\n",
              "    </tr>\n",
              "    <tr>\n",
              "      <th id=\"T_95235_level0_row1\" class=\"row_heading level0 row1\" >treatment_1</th>\n",
              "      <td id=\"T_95235_row1_col0\" class=\"data row1 col0\" >0.000000</td>\n",
              "      <td id=\"T_95235_row1_col1\" class=\"data row1 col1\" >1.000000</td>\n",
              "      <td id=\"T_95235_row1_col2\" class=\"data row1 col2\" >0.000000</td>\n",
              "    </tr>\n",
              "    <tr>\n",
              "      <th id=\"T_95235_level0_row2\" class=\"row_heading level0 row2\" >treatment_2</th>\n",
              "      <td id=\"T_95235_row2_col0\" class=\"data row2 col0\" >0.000000</td>\n",
              "      <td id=\"T_95235_row2_col1\" class=\"data row2 col1\" >0.000000</td>\n",
              "      <td id=\"T_95235_row2_col2\" class=\"data row2 col2\" >1.000000</td>\n",
              "    </tr>\n",
              "  </tbody>\n",
              "</table>\n"
            ]
          },
          "metadata": {},
          "execution_count": 28
        }
      ]
    },
    {
      "cell_type": "code",
      "source": [
        "c_mean = np.mean(control)\n",
        "t1_mean = np.mean(treatment_1)\n",
        "t2_mean = np.mean(treatment_2)\n",
        "print(c_mean)\n",
        "print((t1_mean/c_mean)-1)\n",
        "print((t2_mean/c_mean)-1)"
      ],
      "metadata": {
        "colab": {
          "base_uri": "https://localhost:8080/"
        },
        "id": "M8j6u1TTfZtA",
        "outputId": "be53199c-3ad5-476d-c30c-4af3be7dfc5f"
      },
      "execution_count": null,
      "outputs": [
        {
          "output_type": "stream",
          "name": "stdout",
          "text": [
            "1640.8824067257506\n",
            "0.11209714424567352\n",
            "-0.16319097759069223\n"
          ]
        }
      ]
    },
    {
      "cell_type": "markdown",
      "source": [
        "### Test for Cost Margin significance test : Kruskall (non-parametric groups)"
      ],
      "metadata": {
        "id": "XcpFmjJ4kXF2"
      }
    },
    {
      "cell_type": "code",
      "source": [
        "# For cost margin\n",
        "control = c_costmargin\n",
        "treatment_1 = t1_costmargin\n",
        "treatment_2 = t2_costmargin\n"
      ],
      "metadata": {
        "id": "BYHgJwNbkDOI"
      },
      "execution_count": null,
      "outputs": []
    },
    {
      "cell_type": "code",
      "source": [
        "is_normal(control)\n",
        "is_normal(treatment_1)\n",
        "is_normal(treatment_2)\n",
        "\n",
        "pval = stats.levene(control, treatment_1, treatment_2)[1]\n",
        "print(\"p-values : {:.4f}\".format(pval))\n",
        "print(\"Reject null hypothesis -> Variances of the sample are different\") if pval < alpha else print(\"Fail to reject null hypothesis -> Variances of the sample are the same\")"
      ],
      "metadata": {
        "colab": {
          "base_uri": "https://localhost:8080/"
        },
        "id": "VFRqL4ywkO3E",
        "outputId": "701bca26-d59c-444c-e50e-419a49810dc9"
      },
      "execution_count": null,
      "outputs": [
        {
          "output_type": "stream",
          "name": "stdout",
          "text": [
            "p-values : 0.0000\n",
            "Reject null hypothesis -> Samples are not normally distributed\n",
            "p-values : 0.0000\n",
            "Reject null hypothesis -> Samples are not normally distributed\n",
            "p-values : 0.0000\n",
            "Reject null hypothesis -> Samples are not normally distributed\n",
            "p-values : 0.0000\n",
            "Reject null hypothesis -> Variances of the sample are different\n"
          ]
        }
      ]
    },
    {
      "cell_type": "code",
      "source": [
        "# Check statistical significance of the experiments\n",
        "\n",
        "F, pval = stats.kruskal(control, treatment_1, treatment_2)\n",
        "print(\"p-values : {:.4f}\".format(pval))\n",
        "print(\"Reject null hypothesis -> At least one of the mean of the samples is different\") if pval < alpha else print(\"Fail to reject null hypothesis -> The mean of the samples are all the same\")"
      ],
      "metadata": {
        "colab": {
          "base_uri": "https://localhost:8080/"
        },
        "id": "GGad9CKJkZIN",
        "outputId": "1a7146da-32b9-456b-dca1-37bebc36180e"
      },
      "execution_count": null,
      "outputs": [
        {
          "output_type": "stream",
          "name": "stdout",
          "text": [
            "p-values : 0.0000\n",
            "Reject null hypothesis -> At least one of the mean of the samples is different\n"
          ]
        }
      ]
    },
    {
      "cell_type": "code",
      "source": [
        "# Check which pair is differ\n",
        "# Use Bonferroni to damplen alpha-inflation\n",
        "\n",
        "df_posthoc = sp.posthoc_mannwhitney([control, treatment_1, treatment_2], p_adjust = \"bonferroni\")\n",
        "df_posthoc.columns = [\"control\", \"treatment_1\", \"treatment_2\"]\n",
        "df_posthoc.index = [\"control\", \"treatment_1\", \"treatment_2\"]\n",
        "df_posthoc.style.applymap(lambda x: \"background-color:yellow\" if x<0.05 else \"background-color: white\")"
      ],
      "metadata": {
        "colab": {
          "base_uri": "https://localhost:8080/",
          "height": 143
        },
        "id": "ai_VNk1BkcEY",
        "outputId": "0b6d92c1-5a8d-42f2-d26a-d0e8e6d25114"
      },
      "execution_count": null,
      "outputs": [
        {
          "output_type": "execute_result",
          "data": {
            "text/plain": [
              "<pandas.io.formats.style.Styler at 0x7fc01fb855d0>"
            ],
            "text/html": [
              "<style type=\"text/css\">\n",
              "#T_5c390_row0_col0, #T_5c390_row1_col1, #T_5c390_row2_col2 {\n",
              "  background-color: white;\n",
              "}\n",
              "#T_5c390_row0_col1, #T_5c390_row0_col2, #T_5c390_row1_col0, #T_5c390_row1_col2, #T_5c390_row2_col0, #T_5c390_row2_col1 {\n",
              "  background-color: yellow;\n",
              "}\n",
              "</style>\n",
              "<table id=\"T_5c390_\" class=\"dataframe\">\n",
              "  <thead>\n",
              "    <tr>\n",
              "      <th class=\"blank level0\" >&nbsp;</th>\n",
              "      <th class=\"col_heading level0 col0\" >control</th>\n",
              "      <th class=\"col_heading level0 col1\" >treatment_1</th>\n",
              "      <th class=\"col_heading level0 col2\" >treatment_2</th>\n",
              "    </tr>\n",
              "  </thead>\n",
              "  <tbody>\n",
              "    <tr>\n",
              "      <th id=\"T_5c390_level0_row0\" class=\"row_heading level0 row0\" >control</th>\n",
              "      <td id=\"T_5c390_row0_col0\" class=\"data row0 col0\" >1.000000</td>\n",
              "      <td id=\"T_5c390_row0_col1\" class=\"data row0 col1\" >0.000000</td>\n",
              "      <td id=\"T_5c390_row0_col2\" class=\"data row0 col2\" >0.000000</td>\n",
              "    </tr>\n",
              "    <tr>\n",
              "      <th id=\"T_5c390_level0_row1\" class=\"row_heading level0 row1\" >treatment_1</th>\n",
              "      <td id=\"T_5c390_row1_col0\" class=\"data row1 col0\" >0.000000</td>\n",
              "      <td id=\"T_5c390_row1_col1\" class=\"data row1 col1\" >1.000000</td>\n",
              "      <td id=\"T_5c390_row1_col2\" class=\"data row1 col2\" >0.000000</td>\n",
              "    </tr>\n",
              "    <tr>\n",
              "      <th id=\"T_5c390_level0_row2\" class=\"row_heading level0 row2\" >treatment_2</th>\n",
              "      <td id=\"T_5c390_row2_col0\" class=\"data row2 col0\" >0.000000</td>\n",
              "      <td id=\"T_5c390_row2_col1\" class=\"data row2 col1\" >0.000000</td>\n",
              "      <td id=\"T_5c390_row2_col2\" class=\"data row2 col2\" >1.000000</td>\n",
              "    </tr>\n",
              "  </tbody>\n",
              "</table>\n"
            ]
          },
          "metadata": {},
          "execution_count": 33
        }
      ]
    },
    {
      "cell_type": "code",
      "source": [
        "c_mean = np.mean(control)\n",
        "t1_mean = np.mean(treatment_1)\n",
        "t2_mean = np.mean(treatment_2)\n",
        "print(c_mean)\n",
        "print((t1_mean/c_mean)-1)\n",
        "print((t2_mean/c_mean)-1)"
      ],
      "metadata": {
        "colab": {
          "base_uri": "https://localhost:8080/"
        },
        "id": "CYWlnrpCkeCK",
        "outputId": "b48be0b8-d3f1-45a2-ed1f-8ffab79cb46d"
      },
      "execution_count": null,
      "outputs": [
        {
          "output_type": "stream",
          "name": "stdout",
          "text": [
            "0.31810523939447594\n",
            "-0.2668002733805491\n",
            "0.3411636001785068\n"
          ]
        }
      ]
    },
    {
      "cell_type": "markdown",
      "source": [
        "## Conclusion\n",
        "\n",
        "- It is found that out of maximum capacity of **7** checkouts and **10** kitchens, it is most optimum for the profit to have **2** checkouts and **2** kitchens. \n",
        "\n",
        "- There are 3 configurations being experimented with all treatments have statitical significance with p-value 0.00 when compared with control. \n",
        "\n",
        "- The experiment shows that the optimal configuration increases profit by **~11%** from initial value of **1,640** to **1,820**"
      ],
      "metadata": {
        "id": "I1W2w38rXxCo"
      }
    },
    {
      "cell_type": "code",
      "source": [],
      "metadata": {
        "id": "JOcZ1wJm8fFN"
      },
      "execution_count": null,
      "outputs": []
    },
    {
      "cell_type": "markdown",
      "source": [
        "## Reccomendation\n",
        "\n",
        "**Reduce kitchen and checkout counter into 2 and 2 configuration with the expected profit increase at ~10%**"
      ],
      "metadata": {
        "id": "jdv34Oxy4GdO"
      }
    },
    {
      "cell_type": "code",
      "source": [],
      "metadata": {
        "id": "-glNVPlm4G8p"
      },
      "execution_count": null,
      "outputs": []
    }
  ]
}